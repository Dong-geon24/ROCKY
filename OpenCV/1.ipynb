{
 "cells": [
  {
   "cell_type": "code",
   "execution_count": 1,
   "metadata": {},
   "outputs": [
    {
     "data": {
      "text/plain": [
       "'4.2.0'"
      ]
     },
     "execution_count": 1,
     "metadata": {},
     "output_type": "execute_result"
    }
   ],
   "source": [
    "import cv2\n",
    "cv2.__version__"
   ]
  },
  {
   "cell_type": "code",
   "execution_count": 2,
   "metadata": {},
   "outputs": [
    {
     "name": "stdout",
     "output_type": "stream",
     "text": [
      "Cloning into 'insightbook.opencv_project_python'...\n",
      "remote: Enumerating objects: 469, done.\u001b[K\n",
      "remote: Counting objects: 100% (80/80), done.\u001b[K\n",
      "remote: Compressing objects: 100% (64/64), done.\u001b[K\n",
      "remote: Total 469 (delta 23), reused 38 (delta 16), pack-reused 389 (from 1)\u001b[K\n",
      "Receiving objects: 100% (469/469), 30.72 MiB | 20.23 MiB/s, done.\n",
      "Resolving deltas: 100% (39/39), done.\n"
     ]
    }
   ],
   "source": [
    "!git clone https://github.com/dltpdn/insightbook.opencv_project_python"
   ]
  },
  {
   "cell_type": "code",
   "execution_count": 2,
   "metadata": {},
   "outputs": [
    {
     "name": "stdout",
     "output_type": "stream",
     "text": [
      "/home/donggeonyoon/ROCKY/OpenCV/insightbook.opencv_project_python/02.interface\n"
     ]
    }
   ],
   "source": [
    "%cd ~/ROCKY/OpenCV/insightbook.opencv_project_python/02.interface/"
   ]
  },
  {
   "cell_type": "code",
   "execution_count": 10,
   "metadata": {},
   "outputs": [],
   "source": [
    "# !python3 img_show.py\n",
    "import cv2\n",
    "\n",
    "img_file = \"../img/girl.jpg\" # 표시할 이미지 경로            ---①\n",
    "img = cv2.imread(img_file)  # 이미지를 읽어서 img 변수에 할당 ---②\n",
    "\n",
    "if img is not None:\n",
    "  cv2.imshow('IMG', img)   # 읽은 이미지를 화면에 표시      --- ③\n",
    "  cv2.waitKey()           # 키가 입력될 때 까지 대기      --- ④\n",
    "  cv2.destroyAllWindows()  # 창 모두 닫기            --- ⑤\n",
    "else:\n",
    "    print('No image file.')\n",
    "    "
   ]
  },
  {
   "cell_type": "code",
   "execution_count": 3,
   "metadata": {},
   "outputs": [],
   "source": [
    "# !python3 img_show_gray.py\n",
    "import cv2\n",
    "\n",
    "img_file = \"../img/girl.jpg\" # 표시할 이미지 경로            \n",
    "img = cv2.imread(img_file, cv2.IMREAD_GRAYSCALE)   # 그레이 스케일로 읽기\n",
    "# img = cv2.imread(img_file, cv2.IMREAD_COLOR)      # Color  스케일로 읽기\n",
    "# img = cv2.imread(img_file, cv2.IMREAD_UNCHANGED)  # 그대로 읽기 알파브랜딩도\n",
    "#jpg는 alpha(투명도)에 대한 값이 없음\n",
    "\n",
    "if img is not None:\n",
    "  cv2.imshow('cute', img)   # 읽은 이미지를 화면에 표시      --- ③\n",
    "  cv2.waitKey(1000)           # 키가 입력될 때 까지 대기      --- ④\n",
    "  cv2.destroyAllWindows()  # 창 모두 닫기            --- ⑤\n",
    "else:\n",
    "    print('No image file.')"
   ]
  },
  {
   "cell_type": "code",
   "execution_count": 4,
   "metadata": {},
   "outputs": [],
   "source": [
    "#!python3 img_write.py"
   ]
  },
  {
   "cell_type": "code",
   "execution_count": 11,
   "metadata": {},
   "outputs": [
    {
     "name": "stdout",
     "output_type": "stream",
     "text": [
      "FPS: 24.000000, Delay: 41ms\n"
     ]
    }
   ],
   "source": [
    "# !python3 video_play.py\n",
    "import cv2\n",
    "\n",
    "video_file = \"../img/big_buck.avi\" # 동영상 파일 경로\n",
    "\n",
    "cap = cv2.VideoCapture(video_file) # 동영상 캡쳐 객체 생성\n",
    "if cap.isOpened():                 # 캡쳐 객체 초기화 확인\n",
    "    fps = cap.get(cv2.CAP_PROP_FPS) # 프레임 수 구하기\n",
    "    delay = int(1000/(fps))\n",
    "    print(\"FPS: %f, Delay: %dms\" %(fps, delay))\n",
    "\n",
    "    while True:\n",
    "        ret, img = cap.read()      # 다음 프레임 읽기\n",
    "        if ret:                     # 프레임 읽기 정상\n",
    "            cv2.imshow(video_file, img) # 화면에 표시\n",
    "            cv2.waitKey(delay)            # fps에 맞게 시간 지연\n",
    "        else:\n",
    "            break                   # 다음 프레임 읽을 수 없슴, 재생 완료\n",
    "else:\n",
    "    print(\"can't open video.\")      # 캡쳐 객체 초기화 실패\n",
    "cap.release()                       # 캡쳐 자원 반납\n",
    "cv2.destroyAllWindows()"
   ]
  },
  {
   "cell_type": "code",
   "execution_count": 14,
   "metadata": {},
   "outputs": [
    {
     "name": "stdout",
     "output_type": "stream",
     "text": [
      "[ WARN:0] global ../modules/videoio/src/cap_gstreamer.cpp (935) open OpenCV | GStreamer warning: Cannot query video position: status=0, value=-1, duration=-1\n"
     ]
    }
   ],
   "source": [
    "# !python3 video_cam.py #캠영상 재생\n",
    "import cv2\n",
    "\n",
    "cap = cv2.VideoCapture(0)               # 0번 카메라 장치 연결 ---①\n",
    "if cap.isOpened():                      # 캡쳐 객체 연결 확인\n",
    "    while True:\n",
    "        ret, img = cap.read()           # 다음 프레임 읽기\n",
    "        if ret:\n",
    "            cv2.imshow('camera', img)   # 다음 프레임 이미지 표시\n",
    "            if cv2.waitKey(1) != -1:    # 1ms 동안 키 입력 대기 ---②\n",
    "                break                   # 아무 키라도 입력이 있으면 중지\n",
    "        else:\n",
    "            print('no frame')\n",
    "            break\n",
    "else:\n",
    "    print(\"can't open camera.\")\n",
    "cap.release()                           # 자원 반납\n",
    "cv2.destroyAllWindows()"
   ]
  },
  {
   "cell_type": "code",
   "execution_count": 16,
   "metadata": {},
   "outputs": [
    {
     "name": "stdout",
     "output_type": "stream",
     "text": [
      "Original width: 1280, height:720\n",
      "Resized width: 0, height:0\n",
      "can't open camera!\n"
     ]
    },
    {
     "name": "stderr",
     "output_type": "stream",
     "text": [
      "[ WARN:0] global ../modules/videoio/src/cap_gstreamer.cpp (935) open OpenCV | GStreamer warning: Cannot query video position: status=0, value=-1, duration=-1\n",
      "[ WARN:0] global ../modules/videoio/src/cap_gstreamer.cpp (1758) handleMessage OpenCV | GStreamer warning: Embedded video playback halted; module v4l2src0 reported: Internal data stream error.\n",
      "[ WARN:0] global ../modules/videoio/src/cap_gstreamer.cpp (515) startPipeline OpenCV | GStreamer warning: unable to start pipeline\n",
      "[ WARN:0] global ../modules/videoio/src/cap_gstreamer.cpp (1057) setProperty OpenCV | GStreamer warning: no pipeline\n",
      "[ WARN:0] global ../modules/videoio/src/cap_gstreamer.cpp (966) getProperty OpenCV | GStreamer warning: GStreamer: no pipeline\n",
      "[ WARN:0] global ../modules/videoio/src/cap_gstreamer.cpp (966) getProperty OpenCV | GStreamer warning: GStreamer: no pipeline\n",
      "[ WARN:0] global ../modules/videoio/src/cap_gstreamer.cpp (480) isPipelinePlaying OpenCV | GStreamer warning: GStreamer: pipeline have not been created\n"
     ]
    }
   ],
   "source": [
    "# !python3 video_cam_resize.py\n",
    "import cv2\n",
    "\n",
    "cap = cv2.VideoCapture(0)                   # 카메라 0번 장치 연결\n",
    "width = cap.get(cv2.CAP_PROP_FRAME_WIDTH)   # 프레임 폭 값 구하기\n",
    "height = cap.get(cv2.CAP_PROP_FRAME_HEIGHT) # 프레임 높이 값 구하기\n",
    "print(\"Original width: %d, height:%d\" % (width, height) )\n",
    "\n",
    "cap.set(cv2.CAP_PROP_FRAME_WIDTH, 320)      # 프레임 폭을 320으로 설정\n",
    "cap.set(cv2.CAP_PROP_FRAME_HEIGHT, 240)     # 프레임 높이를 240으로 설정\n",
    "width = cap.get(cv2.CAP_PROP_FRAME_WIDTH)   # 재지정한 프레임 폭 값 구하기\n",
    "height = cap.get(cv2.CAP_PROP_FRAME_HEIGHT) # 재지정한 프레임 폭 값 구하기\n",
    "\n",
    "print(\"Resized width: %d, height:%d\" % (width, height) )\n",
    "if cap.isOpened():\n",
    "    while True:\n",
    "        ret, img = cap.read()\n",
    "        if ret:\n",
    "            #cv2.imshow('camera', img)\n",
    "            cv2.imshow(img)\n",
    "            if cv2.waitKey(1) != -1:\n",
    "                break\n",
    "        else:\n",
    "            print('no frame!')\n",
    "            break\n",
    "else:\n",
    "    print(\"can't open camera!\")\n",
    "cap.release()\n",
    "cv2.destroyAllWindows()"
   ]
  },
  {
   "cell_type": "code",
   "execution_count": 2,
   "metadata": {},
   "outputs": [
    {
     "name": "stdout",
     "output_type": "stream",
     "text": [
      "2\n"
     ]
    }
   ],
   "source": [
    "i = 4\n",
    "i //= 2\n",
    "print(i)"
   ]
  },
  {
   "cell_type": "code",
   "execution_count": 3,
   "metadata": {},
   "outputs": [],
   "source": [
    "def solution(num_list):\n",
    "    cnt = 0\n",
    "    for i in num_list:\n",
    "        if i%2 == 0:\n",
    "            i //= 2\n",
    "            cnt+=1\n",
    "        elif i % 2 != 0:\n",
    "            i = (i-1)//2\n",
    "            cnt+=1\n",
    "        elif i == 1:\n",
    "            return cnt"
   ]
  },
  {
   "cell_type": "code",
   "execution_count": 6,
   "metadata": {},
   "outputs": [
    {
     "name": "stdout",
     "output_type": "stream",
     "text": [
      "None\n"
     ]
    }
   ],
   "source": [
    "result = solution([12, 4, 15, 1, 14])\n",
    "print(result)"
   ]
  },
  {
   "cell_type": "code",
   "execution_count": 20,
   "metadata": {},
   "outputs": [
    {
     "name": "stdout",
     "output_type": "stream",
     "text": [
      "6\n",
      "3\n",
      "1\n",
      "5\n",
      "2\n",
      "1\n",
      "6\n"
     ]
    }
   ],
   "source": [
    "cnt = 0\n",
    "for i in [12,10]:\n",
    "    while i > 1:\n",
    "        if i%2 == 0:\n",
    "            i //= 2\n",
    "            cnt+=1\n",
    "            print(i)\n",
    "        elif i % 2 != 0:\n",
    "            i = (i-1)//2\n",
    "            print(i)\n",
    "            cnt+=1\n",
    "       \n",
    "print(cnt)"
   ]
  },
  {
   "cell_type": "code",
   "execution_count": 17,
   "metadata": {},
   "outputs": [
    {
     "name": "stdout",
     "output_type": "stream",
     "text": [
      "4\n",
      "3\n",
      "2\n",
      "1\n"
     ]
    }
   ],
   "source": [
    "i = 4\n",
    "while i >= 1:\n",
    "    print(i)\n",
    "    i -= 1"
   ]
  },
  {
   "cell_type": "code",
   "execution_count": null,
   "metadata": {},
   "outputs": [],
   "source": []
  }
 ],
 "metadata": {
  "kernelspec": {
   "display_name": "Python 3",
   "language": "python",
   "name": "python3"
  },
  "language_info": {
   "codemirror_mode": {
    "name": "ipython",
    "version": 3
   },
   "file_extension": ".py",
   "mimetype": "text/x-python",
   "name": "python",
   "nbconvert_exporter": "python",
   "pygments_lexer": "ipython3",
   "version": "3.8.10"
  }
 },
 "nbformat": 4,
 "nbformat_minor": 2
}
